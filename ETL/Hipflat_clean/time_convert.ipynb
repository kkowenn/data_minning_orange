{
 "cells": [
  {
   "cell_type": "code",
   "execution_count": 1,
   "metadata": {},
   "outputs": [],
   "source": [
    "import pandas as pd"
   ]
  },
  {
   "cell_type": "code",
   "execution_count": 7,
   "metadata": {},
   "outputs": [
    {
     "name": "stdout",
     "output_type": "stream",
     "text": [
      "      index  canvas_index currencyStringFormat  \\\n",
      "0         0             1               Baht%s   \n",
      "1         1             1               Baht%s   \n",
      "2      4076             1           Baht%s/sqm   \n",
      "3      4077             1           Baht%s/sqm   \n",
      "4         2             1               Baht%s   \n",
      "...     ...           ...                  ...   \n",
      "8147   4072             1               Baht%s   \n",
      "8148   8150             1           Baht%s/sqm   \n",
      "8149   4074             1               Baht%s   \n",
      "8150   4075             1               Baht%s   \n",
      "8151   8151             1           Baht%s/sqm   \n",
      "\n",
      "                                                   link  \\\n",
      "0     https://www.hipflat.co.th/en/projects/15-suite...   \n",
      "1     https://www.hipflat.co.th/en/projects/15-suite...   \n",
      "2     https://www.hipflat.co.th/en/projects/15-suite...   \n",
      "3     https://www.hipflat.co.th/en/projects/15-suite...   \n",
      "4     https://www.hipflat.co.th/en/projects/15-sukhu...   \n",
      "...                                                 ...   \n",
      "8147  https://www.hipflat.co.th/en/projects/zenith-p...   \n",
      "8148  https://www.hipflat.co.th/en/projects/zenithar...   \n",
      "8149  https://www.hipflat.co.th/en/projects/zenithar...   \n",
      "8150  https://www.hipflat.co.th/en/projects/zense-re...   \n",
      "8151  https://www.hipflat.co.th/en/projects/zense-re...   \n",
      "\n",
      "                                            condo_name             type  \\\n",
      "0                                      15-suite-buacrl            Price   \n",
      "1                                      15-suite-buacrl             Rent   \n",
      "2                                      15-suite-buacrl  Price Per Space   \n",
      "3                                      15-suite-buacrl   Rent Per Space   \n",
      "4                       15-sukhumvit-residences-htzxov            Price   \n",
      "...                                                ...              ...   \n",
      "8147                  zenith-place-sukhumvit-71-rnywvv            Price   \n",
      "8148               zenithar-penthouse-sukhumvit-cdmwcx  Price Per Space   \n",
      "8149               zenithar-penthouse-sukhumvit-cdmwcx            Price   \n",
      "8150  zense-residence-3ht1l37a1hu1ucu0947c3c2lct2n312n            Price   \n",
      "8151  zense-residence-3ht1l37a1hu1ucu0947c3c2lct2n312n  Price Per Space   \n",
      "\n",
      "        Dec 23    Jan 24    Feb 24    Mar 24    Apr 24    May 24    Jun 24  \\\n",
      "0     10488524  11390816  11353858  11316254  10673586  10805302  10364628   \n",
      "1        43792     44710     43180     42908     41786     41786     41650   \n",
      "2       150994    152082    152184    153136    150382    152388    149770   \n",
      "3          612       612       612       612       612       612       612   \n",
      "4     10488524  11390816  11353858  11316254  10673586  10805302  10364628   \n",
      "...        ...       ...       ...       ...       ...       ...       ...   \n",
      "8147  11993024  12619916  12773086  12626784  12045588  12668196  12413638   \n",
      "8148    150994    152082    152184    153136    150382    152388    149770   \n",
      "8149  10488524  11390816  11353858  11316254  10673586  10805302  10364628   \n",
      "8150     17544     19448     17034     15266     14824     15062     15674   \n",
      "8151       374       374       374       374       374       374       374   \n",
      "\n",
      "        Jul 24    Aug 24    Sep 24    Oct 24    Nov 24    Dec 24  \n",
      "0     10823390  11330908  11711334  11545346  11158494  11046396  \n",
      "1        42364     44914     46444     46172     45050     44846  \n",
      "2       150654    157080    162826    162010    159052    160480  \n",
      "3          612       612       646       646       646       646  \n",
      "4     10823390  11330908  11711334  11545346  11158494  11046396  \n",
      "...        ...       ...       ...       ...       ...       ...  \n",
      "8147  12761186  13341158  13895596  13708256  13238750  13056306  \n",
      "8148    150654    157080    162826    162010    159052    160480  \n",
      "8149  10823390  11330908  11711334  11545346  11158494  11046396  \n",
      "8150     15130     15708     16524     16354     15198     14960  \n",
      "8151       374       374       374       374       374       374  \n",
      "\n",
      "[8152 rows x 19 columns]\n"
     ]
    }
   ],
   "source": [
    "import pandas as pd\n",
    "\n",
    "# Load the dataset\n",
    "df = pd.read_csv(\"main_time_USD.csv\")\n",
    "\n",
    "usd_to_baht = 34\n",
    "\n",
    "# Convert USD to Thai Baht for columns from Dec 23 to Dec 24\n",
    "columns_to_convert = df.columns[6:]  # Columns from Dec 23 to Dec 24\n",
    "for column in columns_to_convert:\n",
    "    df[column] = df[column] * usd_to_baht\n",
    "\n",
    "# Update currencyStringFormat to replace \"USD\" with \"Baht\"\n",
    "df['currencyStringFormat'] = df['currencyStringFormat'].str.replace(\"USD\", \"Baht\")\n",
    "\n",
    "# Display the updated DataFrame\n",
    "print(df)"
   ]
  },
  {
   "cell_type": "code",
   "execution_count": 8,
   "metadata": {},
   "outputs": [
    {
     "name": "stdout",
     "output_type": "stream",
     "text": [
      "The DataFrame has been converted and saved to 'main_historical_dataset.csv'\n"
     ]
    }
   ],
   "source": [
    "df.to_csv('main_historical_dataset.csv', index=False)\n",
    "\n",
    "print(\"The DataFrame has been converted and saved to 'main_historical_dataset.csv'\")"
   ]
  },
  {
   "cell_type": "code",
   "execution_count": null,
   "metadata": {},
   "outputs": [],
   "source": []
  }
 ],
 "metadata": {
  "kernelspec": {
   "display_name": "cv2sypder",
   "language": "python",
   "name": "python3"
  },
  "language_info": {
   "codemirror_mode": {
    "name": "ipython",
    "version": 3
   },
   "file_extension": ".py",
   "mimetype": "text/x-python",
   "name": "python",
   "nbconvert_exporter": "python",
   "pygments_lexer": "ipython3",
   "version": "3.10.14"
  }
 },
 "nbformat": 4,
 "nbformat_minor": 2
}
